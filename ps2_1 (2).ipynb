{
 "cells": [
  {
   "cell_type": "code",
   "execution_count": 13,
   "id": "473f1c06-c747-46d9-897f-691c42cd7abd",
   "metadata": {
    "tags": []
   },
   "outputs": [],
   "source": [
    "## Importing the libraries\n",
    "import pandas as pd\n",
    "import numpy as np\n",
    "import matplotlib.pyplot as plt \n",
    "import scipy.stats as stats"
   ]
  },
  {
   "cell_type": "markdown",
   "id": "7b833685-06e8-4a67-89c0-2fc90722bb6e",
   "metadata": {},
   "source": [
    "## Question 1.d\n"
   ]
  },
  {
   "cell_type": "code",
   "execution_count": 14,
   "id": "1832ab6f-afbd-4c0e-a8c1-948c4baf0f4e",
   "metadata": {
    "tags": []
   },
   "outputs": [
    {
     "data": {
      "text/html": [
       "<div>\n",
       "<style scoped>\n",
       "    .dataframe tbody tr th:only-of-type {\n",
       "        vertical-align: middle;\n",
       "    }\n",
       "\n",
       "    .dataframe tbody tr th {\n",
       "        vertical-align: top;\n",
       "    }\n",
       "\n",
       "    .dataframe thead th {\n",
       "        text-align: right;\n",
       "    }\n",
       "</style>\n",
       "<table border=\"1\" class=\"dataframe\">\n",
       "  <thead>\n",
       "    <tr style=\"text-align: right;\">\n",
       "      <th></th>\n",
       "      <th>lwage</th>\n",
       "      <th>male</th>\n",
       "    </tr>\n",
       "  </thead>\n",
       "  <tbody>\n",
       "    <tr>\n",
       "      <th>0</th>\n",
       "      <td>1.842975</td>\n",
       "      <td>0</td>\n",
       "    </tr>\n",
       "    <tr>\n",
       "      <th>1</th>\n",
       "      <td>1.701063</td>\n",
       "      <td>0</td>\n",
       "    </tr>\n",
       "    <tr>\n",
       "      <th>2</th>\n",
       "      <td>1.292580</td>\n",
       "      <td>0</td>\n",
       "    </tr>\n",
       "    <tr>\n",
       "      <th>3</th>\n",
       "      <td>1.524607</td>\n",
       "      <td>0</td>\n",
       "    </tr>\n",
       "    <tr>\n",
       "      <th>4</th>\n",
       "      <td>0.883006</td>\n",
       "      <td>0</td>\n",
       "    </tr>\n",
       "    <tr>\n",
       "      <th>...</th>\n",
       "      <td>...</td>\n",
       "      <td>...</td>\n",
       "    </tr>\n",
       "    <tr>\n",
       "      <th>3291</th>\n",
       "      <td>1.455614</td>\n",
       "      <td>1</td>\n",
       "    </tr>\n",
       "    <tr>\n",
       "      <th>3292</th>\n",
       "      <td>1.966439</td>\n",
       "      <td>1</td>\n",
       "    </tr>\n",
       "    <tr>\n",
       "      <th>3293</th>\n",
       "      <td>1.512659</td>\n",
       "      <td>1</td>\n",
       "    </tr>\n",
       "    <tr>\n",
       "      <th>3294</th>\n",
       "      <td>1.067848</td>\n",
       "      <td>1</td>\n",
       "    </tr>\n",
       "    <tr>\n",
       "      <th>3295</th>\n",
       "      <td>1.424065</td>\n",
       "      <td>1</td>\n",
       "    </tr>\n",
       "  </tbody>\n",
       "</table>\n",
       "<p>3296 rows × 2 columns</p>\n",
       "</div>"
      ],
      "text/plain": [
       "         lwage  male\n",
       "0     1.842975     0\n",
       "1     1.701063     0\n",
       "2     1.292580     0\n",
       "3     1.524607     0\n",
       "4     0.883006     0\n",
       "...        ...   ...\n",
       "3291  1.455614     1\n",
       "3292  1.966439     1\n",
       "3293  1.512659     1\n",
       "3294  1.067848     1\n",
       "3295  1.424065     1\n",
       "\n",
       "[3296 rows x 2 columns]"
      ]
     },
     "execution_count": 14,
     "metadata": {},
     "output_type": "execute_result"
    }
   ],
   "source": [
    "## Reading the file\n",
    "df = pd.read_excel('wage.xlsx')\n",
    "df['lwage'] = np.log(df['wage'])\n",
    "df = df[['lwage','male']]\n",
    "df #print the data"
   ]
  },
  {
   "cell_type": "code",
   "execution_count": 15,
   "id": "873fcfea-8939-4d95-825b-11491dea8e6a",
   "metadata": {
    "tags": []
   },
   "outputs": [
    {
     "name": "stdout",
     "output_type": "stream",
     "text": [
      "T: 2.36042302721787\n",
      "K_hat: 7.3781207090510135\n",
      "A statistic: 0.9346380888883526\n",
      "Dont reject H0: s2_f = s2_m\n"
     ]
    }
   ],
   "source": [
    "### Robust test\n",
    "\n",
    "# Stats for male and females\n",
    "y_m = df[df['male'] == 1]['lwage']\n",
    "y_f = df[df['male'] == 0]['lwage']\n",
    "n_m = len(y_m)\n",
    "n_f = len(y_f)\n",
    "mean_m = np.mean(y_m)\n",
    "mean_f = np.mean(y_f)\n",
    "s2_m = np.var(y_m)\n",
    "s2_f = np.var(y_f)\n",
    "\n",
    "# Calculate T\n",
    "T = np.sqrt((n_m*n_f)/(n_m+n_f))*(np.log(s2_f) - np.log(s2_m))\n",
    "\n",
    "# Calculate K_hat\n",
    "k_hat = ((n_m+n_f)*(np.sum((y_f-mean_f)**4) + np.sum((y_m-mean_m)**4)))/((np.sum((y_f-mean_f)**2) + np.sum((y_m-mean_m)**2))**2)\n",
    "\n",
    "# Calculate A statistic: T/(k_hat-1)^0.5\n",
    "A = T/np.sqrt(k_hat - 1)\n",
    "\n",
    "\n",
    "print(\"T:\", T)\n",
    "print(\"K_hat:\", k_hat)\n",
    "print(\"A statistic:\", A)\n",
    "if (A > 1.645): #std normal one sided distibution\n",
    "    print('Reject H0: s2_f > s2_m')\n",
    "else:\n",
    "    print('Dont reject H0: s2_f = s2_m')"
   ]
  },
  {
   "cell_type": "code",
   "execution_count": 16,
   "id": "d2464116-d892-4f13-9ef6-dfc54b160cdc",
   "metadata": {
    "tags": []
   },
   "outputs": [
    {
     "name": "stdout",
     "output_type": "stream",
     "text": [
      "F-statistic: 1.0858707722186254\n",
      "p-value: 0.04734658854082252\n",
      "Reject H0: s2_f > s2_m\n"
     ]
    }
   ],
   "source": [
    "### Standard (normal theory) test\n",
    "\n",
    "# Calculate the sample variances\n",
    "s_var_f = np.var(y_f, ddof=1)\n",
    "s_var_m = np.var(y_m, ddof=1)\n",
    " \n",
    "# Calculate the F-statistic\n",
    "f_value = s_var_f / s_var_m \n",
    " \n",
    "# Calculate the degrees of freedom\n",
    "df_f = n_f - 1\n",
    "df_m = n_m - 1\n",
    " \n",
    "# Calculate the p-value\n",
    "p_value = 1 - stats.f.cdf(f_value, df_f, df_m)\n",
    " \n",
    "# Print the results\n",
    "print(\"F-statistic:\", f_value)\n",
    "print(\"p-value:\", p_value)\n",
    "if (p_value<0.05):\n",
    "    print('Reject H0: s2_f > s2_m')\n",
    "else:\n",
    "    print('Dont reject H0: s2_f = s2_m')"
   ]
  }
 ],
 "metadata": {
  "kernelspec": {
   "display_name": "Python 3 (ipykernel)",
   "language": "python",
   "name": "python3"
  },
  "language_info": {
   "codemirror_mode": {
    "name": "ipython",
    "version": 3
   },
   "file_extension": ".py",
   "mimetype": "text/x-python",
   "name": "python",
   "nbconvert_exporter": "python",
   "pygments_lexer": "ipython3",
   "version": "3.11.5"
  }
 },
 "nbformat": 4,
 "nbformat_minor": 5
}
